{
 "cells": [
  {
   "cell_type": "code",
   "execution_count": 10,
   "id": "50ce748a-5dad-4988-a51d-7116ac59daf8",
   "metadata": {},
   "outputs": [],
   "source": [
    "import rasterio\n",
    "from rasterio.transform import from_origin"
   ]
  },
  {
   "cell_type": "markdown",
   "id": "a473a1b5-95a9-40a6-8006-1f18424fc418",
   "metadata": {},
   "source": [
    "### Create a Raster From Scratch"
   ]
  },
  {
   "cell_type": "code",
   "execution_count": 30,
   "id": "14c07b0a-2707-4154-8a4c-8be08a71df01",
   "metadata": {},
   "outputs": [
    {
     "data": {
      "text/plain": [
       "array([[ 1,  2,  3,  4,  5,  6],\n",
       "       [ 7,  8,  9, 10, 11, 12],\n",
       "       [13, 14, 15, 16, 17, 18],\n",
       "       [19, 20, 21, 22, 23, 24],\n",
       "       [25, 26, 27, 28, 29, 30],\n",
       "       [31, 32, 33, 34, 35, 36]], dtype=uint8)"
      ]
     },
     "execution_count": 30,
     "metadata": {},
     "output_type": "execute_result"
    }
   ],
   "source": [
    "elev = np.arange(1, 37, dtype=np.uint8).reshape(6, 6)\n",
    "elev"
   ]
  },
  {
   "cell_type": "code",
   "execution_count": 31,
   "id": "a24ccd7a-be08-4fbd-a834-c4450ec2d43c",
   "metadata": {},
   "outputs": [
    {
     "data": {
      "text/plain": [
       "array([[1, 0, 1, 2, 2, 2],\n",
       "       [0, 2, 0, 0, 2, 1],\n",
       "       [0, 2, 2, 0, 0, 2],\n",
       "       [0, 0, 1, 1, 1, 1],\n",
       "       [1, 1, 1, 2, 1, 1],\n",
       "       [2, 1, 2, 2, 0, 2]], dtype=uint8)"
      ]
     },
     "execution_count": 31,
     "metadata": {},
     "output_type": "execute_result"
    }
   ],
   "source": [
    "v = [\n",
    "  1, 0, 1, 2, 2, 2, \n",
    "  0, 2, 0, 0, 2, 1, \n",
    "  0, 2, 2, 0, 0, 2, \n",
    "  0, 0, 1, 1, 1, 1, \n",
    "  1, 1, 1, 2, 1, 1, \n",
    "  2, 1, 2, 2, 0, 2\n",
    "]\n",
    "grain = np.array(v, dtype=np.uint8).reshape(6, 6)\n",
    "grain"
   ]
  },
  {
   "cell_type": "code",
   "execution_count": 32,
   "id": "da775c34-a460-4e70-a778-69af54863d19",
   "metadata": {},
   "outputs": [
    {
     "data": {
      "text/plain": [
       "Affine(0.5, 0.0, -1.5,\n",
       "       0.0, -0.5, 1.5)"
      ]
     },
     "execution_count": 32,
     "metadata": {},
     "output_type": "execute_result"
    }
   ],
   "source": [
    "new_transform = rasterio.transform.from_origin(\n",
    "    west=-1.5, \n",
    "    north=1.5, \n",
    "    xsize=0.5, \n",
    "    ysize=0.5\n",
    ")\n",
    "new_transform"
   ]
  },
  {
   "cell_type": "code",
   "execution_count": 33,
   "id": "4485033f-67e2-4fc2-b54c-e2da9865f410",
   "metadata": {},
   "outputs": [
    {
     "data": {
      "image/png": "[encoded data removed]",
      "text/plain": [
       "<Figure size 640x480 with 1 Axes>"
      ]
     },
     "metadata": {},
     "output_type": "display_data"
    }
   ],
   "source": [
    "# A raster is an array plus the referencing information, here the transform\n",
    "rasterio.plot.show(elev, transform=new_transform);"
   ]
  },
  {
   "cell_type": "code",
   "execution_count": 34,
   "id": "bf0bfcd1-9f58-455b-9132-97bb2ee07d2c",
   "metadata": {},
   "outputs": [
    {
     "data": {
      "image/png": "[encoded data removed]",
      "text/plain": [
       "<Figure size 640x480 with 1 Axes>"
      ]
     },
     "metadata": {},
     "output_type": "display_data"
    }
   ],
   "source": [
    "rasterio.plot.show(grain, transform=new_transform);"
   ]
  },
  {
   "cell_type": "code",
   "execution_count": 37,
   "id": "28b53325-082c-45d9-8183-aa32c7c9c6e6",
   "metadata": {},
   "outputs": [],
   "source": [
    "# write rasters as tif files\n",
    "grain_ds = rasterio.open(\n",
    "    'output/grain.tif', 'w', \n",
    "    driver='GTiff',\n",
    "    height=grain.shape[0],\n",
    "    width=grain.shape[1],\n",
    "    count=1,\n",
    "    dtype=grain.dtype,\n",
    "    crs=4326,\n",
    "    transform=new_transform)\n",
    "\n",
    "grain_ds.write(grain, 1)\n",
    "grain_ds.close()\n",
    "\n",
    "elev_ds = rasterio.open(\n",
    "    'output/elev.tif', 'w', \n",
    "    driver='GTiff',\n",
    "    height=elev.shape[0],\n",
    "    width=elev.shape[1],\n",
    "    count=1,\n",
    "    dtype=elev.dtype,\n",
    "    crs=4326,\n",
    "    transform=new_transform)\n",
    "\n",
    "elev_ds.write(elev, 1)\n",
    "elev_ds.close()"
   ]
  },
  {
   "cell_type": "markdown",
   "id": "fece0ae8-954f-4161-bb3e-1faca8d16b90",
   "metadata": {},
   "source": [
    "### Multi-Band Raster Example"
   ]
  },
  {
   "cell_type": "code",
   "execution_count": 38,
   "id": "c544b3c1-fccd-4629-aee2-a19dd4757710",
   "metadata": {},
   "outputs": [
    {
     "name": "stdout",
     "output_type": "stream",
     "text": [
      "Raster saved to data/example_3band_raster.tif\n"
     ]
    }
   ],
   "source": [
    "# Define raster parameters\n",
    "rows, cols = 10, 10  \n",
    "transform = from_origin(0, 10, 1.0, -1.0)\n",
    "nodata = 0  # No data value\n",
    "\n",
    "# Create a three-band raster object\n",
    "data_band_1 = np.random.randint(1, 256, size=(rows, cols), dtype='uint8')\n",
    "data_band_2 = np.random.randint(1, 3, size=(rows, cols), dtype='uint8')\n",
    "data_band_3 = np.random.randint(1, 12, size=(rows, cols), dtype='uint8')\n",
    "data = np.stack([data_band_1, data_band_2, data_band_3], axis=0)\n",
    "\n",
    "output_file_path = 'data/example_3band_raster.tif'\n",
    "\n",
    "# Write the raster to a file\n",
    "with rasterio.open(\n",
    "    output_file_path,\n",
    "    'w',\n",
    "    driver='GTiff', \n",
    "    height=rows,\n",
    "    width=cols,\n",
    "    count=3,  # Number of bands\n",
    "    dtype=data.dtype,\n",
    "    nodata=nodata,\n",
    "    transform=transform,\n",
    "    crs = 4326 # arbitrarily chosen in this case\n",
    ") as dst:\n",
    "     for i in range(1, 4):  # Write each band to the file\n",
    "        dst.write(data[i-1], i)\n",
    "\n",
    "print(f\"Raster saved to {output_file_path}\")"
   ]
  },
  {
   "cell_type": "code",
   "execution_count": 39,
   "id": "9c73f54b-800a-46fa-a5d0-a612e7ecf95c",
   "metadata": {},
   "outputs": [
    {
     "data": {
      "text/plain": [
       "<open DatasetReader name='data/example_3band_raster.tif' mode='r'>"
      ]
     },
     "execution_count": 39,
     "metadata": {},
     "output_type": "execute_result"
    }
   ],
   "source": [
    "src = rasterio.open('data/example_3band_raster.tif')\n",
    "src"
   ]
  },
  {
   "cell_type": "code",
   "execution_count": 41,
   "id": "0cb29770-d63d-4516-9150-27706173aa12",
   "metadata": {},
   "outputs": [
    {
     "data": {
      "image/png": "[encoded data removed]",
      "text/plain": [
       "<Figure size 640x480 with 1 Axes>"
      ]
     },
     "metadata": {},
     "output_type": "display_data"
    }
   ],
   "source": [
    "rasterio.plot.show(src);"
   ]
  },
  {
   "cell_type": "code",
   "execution_count": 42,
   "id": "5fd6fa6e-0e36-4c57-8082-ac5ebfd612c5",
   "metadata": {},
   "outputs": [
    {
     "data": {
      "text/plain": [
       "{'driver': 'GTiff',\n",
       " 'dtype': 'uint8',\n",
       " 'nodata': 0.0,\n",
       " 'width': 10,\n",
       " 'height': 10,\n",
       " 'count': 3,\n",
       " 'crs': CRS.from_wkt('GEOGCS[\"WGS 84\",DATUM[\"WGS_1984\",SPHEROID[\"WGS 84\",6378137,298.257223563,AUTHORITY[\"EPSG\",\"7030\"]],AUTHORITY[\"EPSG\",\"6326\"]],PRIMEM[\"Greenwich\",0,AUTHORITY[\"EPSG\",\"8901\"]],UNIT[\"degree\",0.0174532925199433,AUTHORITY[\"EPSG\",\"9122\"]],AXIS[\"Latitude\",NORTH],AXIS[\"Longitude\",EAST],AUTHORITY[\"EPSG\",\"4326\"]]'),\n",
       " 'transform': Affine(1.0, 0.0, 0.0,\n",
       "        0.0, 1.0, 10.0)}"
      ]
     },
     "execution_count": 42,
     "metadata": {},
     "output_type": "execute_result"
    }
   ],
   "source": [
    "src.meta"
   ]
  },
  {
   "cell_type": "code",
   "execution_count": 28,
   "id": "2e4e24ac-c02a-4c81-a4f4-15fe690fb86f",
   "metadata": {},
   "outputs": [
    {
     "data": {
      "text/plain": [
       "array([[ 5, 10,  4,  3,  3, 10,  7, 10, 11,  9],\n",
       "       [10,  4,  6,  5,  4,  6, 10,  1,  1,  5],\n",
       "       [10,  7,  8, 10,  7,  2,  4,  8,  3,  2],\n",
       "       [11, 11,  7,  6, 10,  8,  7,  4,  8,  7],\n",
       "       [ 6,  6,  3, 10,  7,  5, 11,  8, 10,  1],\n",
       "       [ 9,  7,  7,  8,  1,  9,  9,  8,  1,  4],\n",
       "       [ 1,  7,  4,  1,  4,  1,  8,  8,  6, 11],\n",
       "       [ 8, 10,  2,  8,  3, 11,  4,  9,  4,  3],\n",
       "       [ 2,  6,  4,  2,  7,  7,  7,  1,  8,  8],\n",
       "       [ 9,  2, 11,  9,  5,  9,  3, 11, 11, 10]], dtype=uint8)"
      ]
     },
     "execution_count": 28,
     "metadata": {},
     "output_type": "execute_result"
    }
   ],
   "source": [
    "src.read(3)"
   ]
  },
  {
   "cell_type": "code",
   "execution_count": null,
   "id": "29cf205e-86d4-41ff-ab0a-21783521a204",
   "metadata": {},
   "outputs": [],
   "source": []
  }
 ],
 "metadata": {
  "kernelspec": {
   "display_name": "Python 3 (ipykernel)",
   "language": "python",
   "name": "python3"
  },
  "language_info": {
   "codemirror_mode": {
    "name": "ipython",
    "version": 3
   },
   "file_extension": ".py",
   "mimetype": "text/x-python",
   "name": "python",
   "nbconvert_exporter": "python",
   "pygments_lexer": "ipython3",
   "version": "3.13.0"
  }
 },
 "nbformat": 4,
 "nbformat_minor": 5
}
