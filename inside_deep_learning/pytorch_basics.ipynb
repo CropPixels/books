{
 "cells": [
  {
   "cell_type": "code",
   "execution_count": 4,
   "id": "c05769a2-273b-4829-bcd8-51bccba28692",
   "metadata": {},
   "outputs": [],
   "source": [
    "import torch\n",
    "import numpy as np\n",
    "\n",
    "# Apple Silicon GPUs\n",
    "device = torch.device(\"mps\")"
   ]
  },
  {
   "cell_type": "code",
   "execution_count": 2,
   "id": "6855a23b-63d4-4fa7-8eb7-abfd9f4b2864",
   "metadata": {},
   "outputs": [
    {
     "data": {
      "text/plain": [
       "torch.Size([4, 2, 3])"
      ]
     },
     "execution_count": 2,
     "metadata": {},
     "output_type": "execute_result"
    }
   ],
   "source": [
    "torch_scalar = torch.tensor(3.14) \n",
    "\n",
    "torch_vector = torch.tensor([1, 2, 3, 4]) \n",
    "\n",
    "torch_matrix = torch.tensor([[1, 2,], \n",
    "                             [3, 4,], \n",
    "                             [5, 6,], \n",
    "                             [7, 8,]])\n",
    "torch_tensor3d = torch.tensor([[[ 1, 2, 3], \n",
    "                             [ 4, 5, 6],], \n",
    "                             [[ 7, 8, 9], \n",
    "                             [10, 11, 12],], \n",
    "                             [[13, 14, 15], \n",
    "                             [16, 17, 18],], \n",
    "                             [[19, 20, 21],\n",
    "                             [22, 23, 24],]])\n",
    "\n",
    "torch_tensor3d.shape"
   ]
  },
  {
   "cell_type": "code",
   "execution_count": 6,
   "id": "3895979d-03c3-445e-b323-d0d5fbf7124d",
   "metadata": {},
   "outputs": [
    {
     "name": "stdout",
     "output_type": "stream",
     "text": [
      "float64 torch.float64\n"
     ]
    }
   ],
   "source": [
    "x_np = np.random.random((4,4)) \n",
    "\n",
    "x_pt = torch.tensor(x_np) \n",
    "\n",
    "# default datatype\n",
    "print(x_np.dtype, x_pt.dtype) "
   ]
  },
  {
   "cell_type": "code",
   "execution_count": 7,
   "id": "b983f618-e2f3-4306-a72c-26bdc006c3db",
   "metadata": {},
   "outputs": [
    {
     "name": "stdout",
     "output_type": "stream",
     "text": [
      "torch.bool\n"
     ]
    }
   ],
   "source": [
    "b_pt = (x_pt > 0.5) \n",
    "\n",
    "# masks produce a boolean dtype\n",
    "print(b_pt.dtype) "
   ]
  },
  {
   "cell_type": "code",
   "execution_count": 8,
   "id": "1b8ebc30-ddc2-40e1-bfd6-1dc6d016bd5a",
   "metadata": {},
   "outputs": [
    {
     "name": "stdout",
     "output_type": "stream",
     "text": [
      "torch.Size([4, 2, 3])\n",
      "torch.Size([3, 2, 4])\n"
     ]
    }
   ],
   "source": [
    "# transposing must specify the dimensions to transpose\n",
    "print(torch_tensor3d.shape)\n",
    "print(torch.transpose(torch_tensor3d, 0, 2).shape) "
   ]
  },
  {
   "cell_type": "code",
   "execution_count": 14,
   "id": "214818b0-a95a-4f2d-ab0f-4c463a4d9d91",
   "metadata": {},
   "outputs": [
    {
     "name": "stdout",
     "output_type": "stream",
     "text": [
      "0.5430715000002238 0.04784954200113134\n"
     ]
    }
   ],
   "source": [
    "# compare cpu and gpu processing times\n",
    "import timeit \n",
    "\n",
    "x = torch.rand(2**11, 2**11) \n",
    "time_cpu = timeit.timeit(\"x@x\", globals=globals(), number=100)\n",
    "\n",
    "x = x.to(device) \n",
    "time_gpu = timeit.timeit(\"x@x\", globals=globals(), number=100)\n",
    "\n",
    "print(time_cpu, time_gpu)"
   ]
  },
  {
   "cell_type": "code",
   "execution_count": 15,
   "id": "2eab4488-fa53-4fdb-af73-9cd85b867e39",
   "metadata": {},
   "outputs": [
    {
     "name": "stdout",
     "output_type": "stream",
     "text": [
      "None\n"
     ]
    }
   ],
   "source": [
    "x = torch.tensor([-3.5], requires_grad=True) \n",
    "print(x.grad)"
   ]
  },
  {
   "cell_type": "code",
   "execution_count": 16,
   "id": "2578baca-86c0-4b6f-8619-53476673f041",
   "metadata": {},
   "outputs": [
    {
     "data": {
      "text/plain": [
       "Parameter containing:\n",
       "tensor([-3.5000], requires_grad=True)"
      ]
     },
     "execution_count": 16,
     "metadata": {},
     "output_type": "execute_result"
    }
   ],
   "source": [
    "x_param = torch.nn.Parameter(torch.tensor([-3.5]), requires_grad=True)\n",
    "x_param"
   ]
  },
  {
   "cell_type": "markdown",
   "id": "6550c5fc-9343-4802-b749-577459b78008",
   "metadata": {},
   "source": [
    "### Training A Neueral Network"
   ]
  },
  {
   "cell_type": "code",
   "execution_count": 27,
   "id": "20e9f376-0d36-45f0-b80c-dccd27ae19b2",
   "metadata": {},
   "outputs": [
    {
     "name": "stdout",
     "output_type": "stream",
     "text": [
      "(70000, 784)\n"
     ]
    }
   ],
   "source": [
    "from torch.utils.data import Dataset\n",
    "from sklearn.datasets import fetch_openml\n",
    "\n",
    "X, y = fetch_openml('mnist_784', version=1, return_X_y=True)\n",
    "print(X.shape)\n",
    "\n"
   ]
  },
  {
   "cell_type": "code",
   "execution_count": 42,
   "id": "b97bea19-3e5d-4288-bbc4-ad4337253b47",
   "metadata": {},
   "outputs": [],
   "source": [
    "import torch\n",
    "from torch.utils.data import Dataset\n",
    "\n",
    "class SimpleDataset(Dataset):\n",
    "    def __init__(self, data, labels):\n",
    "        \"\"\"\n",
    "        Args:\n",
    "            data (list or numpy array): Input data.\n",
    "            labels (list or numpy array): Corresponding labels.\n",
    "        \"\"\"\n",
    "        self.data = data\n",
    "        self.labels = labels\n",
    "\n",
    "    def __len__(self):\n",
    "        # Returns the size of the dataset\n",
    "        return len(self.data)\n",
    "\n",
    "    def __getitem__(self, idx):\n",
    "        # Returns a single data point and its label\n",
    "        sample = self.data[idx]\n",
    "        label = self.labels[idx]\n",
    "        return torch.tensor(sample, dtype=torch.float32), torch.tensor(label, dtype=torch.long)\n",
    "\n",
    "dataset = SimpleDataset(X, y)"
   ]
  },
  {
   "cell_type": "code",
   "execution_count": 45,
   "id": "189e97a6-c95e-465d-a2a8-65a2424b5f51",
   "metadata": {},
   "outputs": [
    {
     "name": "stdout",
     "output_type": "stream",
     "text": [
      "Length:  70000\n"
     ]
    }
   ],
   "source": [
    "print(\"Length: \", len(dataset)) \n",
    "\n",
    "from torch.utils.data import DataLoader\n",
    "\n",
    "# Create DataLoader instance\n",
    "dataloader = DataLoader(dataset, batch_size=2, shuffle=True)\n",
    "\n",
    "# Iterate through DataLoader\n",
    "for batch in dataloader:\n",
    "    data, labels = batch\n",
    "    #print(\"Data:\", data)\n",
    "    #print(\"Labels:\", labels)"
   ]
  },
  {
   "cell_type": "code",
   "execution_count": 48,
   "id": "2254ddd2-3e43-4594-a58e-f19d3b1bef4d",
   "metadata": {},
   "outputs": [
    {
     "name": "stdout",
     "output_type": "stream",
     "text": [
      "56000 examples for training and 14000 for testing\n"
     ]
    }
   ],
   "source": [
    "train_size = int(len(dataset)*0.8) \n",
    "test_size = len(dataset)-train_size\n",
    "\n",
    "train_dataset, test_dataset = torch.utils.data.random_split(dataset, (train_size, test_size)) \n",
    "print(\"{} examples for training and {} for testing\".format( len(train_dataset), len(test_dataset)))\n"
   ]
  },
  {
   "cell_type": "code",
   "execution_count": null,
   "id": "d72ea8ec-d379-4451-87e8-a7813f0434a1",
   "metadata": {},
   "outputs": [],
   "source": []
  }
 ],
 "metadata": {
  "kernelspec": {
   "display_name": "Python 3 (ipykernel)",
   "language": "python",
   "name": "python3"
  },
  "language_info": {
   "codemirror_mode": {
    "name": "ipython",
    "version": 3
   },
   "file_extension": ".py",
   "mimetype": "text/x-python",
   "name": "python",
   "nbconvert_exporter": "python",
   "pygments_lexer": "ipython3",
   "version": "3.11.10"
  }
 },
 "nbformat": 4,
 "nbformat_minor": 5
}
