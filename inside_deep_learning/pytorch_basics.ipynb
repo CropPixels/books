{
 "cells": [
  {
   "cell_type": "code",
   "execution_count": 4,
   "id": "c05769a2-273b-4829-bcd8-51bccba28692",
   "metadata": {},
   "outputs": [],
   "source": [
    "import torch\n",
    "import numpy as np\n",
    "\n",
    "# Apple Silicon GPUs\n",
    "device = torch.device(\"mps\")"
   ]
  },
  {
   "cell_type": "code",
   "execution_count": 2,
   "id": "6855a23b-63d4-4fa7-8eb7-abfd9f4b2864",
   "metadata": {},
   "outputs": [
    {
     "data": {
      "text/plain": [
       "torch.Size([4, 2, 3])"
      ]
     },
     "execution_count": 2,
     "metadata": {},
     "output_type": "execute_result"
    }
   ],
   "source": [
    "torch_scalar = torch.tensor(3.14) \n",
    "\n",
    "torch_vector = torch.tensor([1, 2, 3, 4]) \n",
    "\n",
    "torch_matrix = torch.tensor([[1, 2,], \n",
    "                             [3, 4,], \n",
    "                             [5, 6,], \n",
    "                             [7, 8,]])\n",
    "torch_tensor3d = torch.tensor([[[ 1, 2, 3], \n",
    "                             [ 4, 5, 6],], \n",
    "                             [[ 7, 8, 9], \n",
    "                             [10, 11, 12],], \n",
    "                             [[13, 14, 15], \n",
    "                             [16, 17, 18],], \n",
    "                             [[19, 20, 21],\n",
    "                             [22, 23, 24],]])\n",
    "\n",
    "torch_tensor3d.shape"
   ]
  },
  {
   "cell_type": "code",
   "execution_count": 6,
   "id": "3895979d-03c3-445e-b323-d0d5fbf7124d",
   "metadata": {},
   "outputs": [
    {
     "name": "stdout",
     "output_type": "stream",
     "text": [
      "float64 torch.float64\n"
     ]
    }
   ],
   "source": [
    "x_np = np.random.random((4,4)) \n",
    "\n",
    "x_pt = torch.tensor(x_np) \n",
    "\n",
    "# default datatype\n",
    "print(x_np.dtype, x_pt.dtype) "
   ]
  },
  {
   "cell_type": "code",
   "execution_count": 7,
   "id": "b983f618-e2f3-4306-a72c-26bdc006c3db",
   "metadata": {},
   "outputs": [
    {
     "name": "stdout",
     "output_type": "stream",
     "text": [
      "torch.bool\n"
     ]
    }
   ],
   "source": [
    "b_pt = (x_pt > 0.5) \n",
    "\n",
    "# masks produce a boolean dtype\n",
    "print(b_pt.dtype) "
   ]
  },
  {
   "cell_type": "code",
   "execution_count": 8,
   "id": "1b8ebc30-ddc2-40e1-bfd6-1dc6d016bd5a",
   "metadata": {},
   "outputs": [
    {
     "name": "stdout",
     "output_type": "stream",
     "text": [
      "torch.Size([4, 2, 3])\n",
      "torch.Size([3, 2, 4])\n"
     ]
    }
   ],
   "source": [
    "# transposing must specify the dimensions to transpose\n",
    "print(torch_tensor3d.shape)\n",
    "print(torch.transpose(torch_tensor3d, 0, 2).shape) "
   ]
  },
  {
   "cell_type": "code",
   "execution_count": 14,
   "id": "214818b0-a95a-4f2d-ab0f-4c463a4d9d91",
   "metadata": {},
   "outputs": [
    {
     "name": "stdout",
     "output_type": "stream",
     "text": [
      "0.5430715000002238 0.04784954200113134\n"
     ]
    }
   ],
   "source": [
    "# compare cpu and gpu processing times\n",
    "import timeit \n",
    "\n",
    "x = torch.rand(2**11, 2**11) \n",
    "time_cpu = timeit.timeit(\"x@x\", globals=globals(), number=100)\n",
    "\n",
    "x = x.to(device) \n",
    "time_gpu = timeit.timeit(\"x@x\", globals=globals(), number=100)\n",
    "\n",
    "print(time_cpu, time_gpu)"
   ]
  },
  {
   "cell_type": "code",
   "execution_count": null,
   "id": "2eab4488-fa53-4fdb-af73-9cd85b867e39",
   "metadata": {},
   "outputs": [],
   "source": []
  }
 ],
 "metadata": {
  "kernelspec": {
   "display_name": "Python 3 (ipykernel)",
   "language": "python",
   "name": "python3"
  },
  "language_info": {
   "codemirror_mode": {
    "name": "ipython",
    "version": 3
   },
   "file_extension": ".py",
   "mimetype": "text/x-python",
   "name": "python",
   "nbconvert_exporter": "python",
   "pygments_lexer": "ipython3",
   "version": "3.11.10"
  }
 },
 "nbformat": 4,
 "nbformat_minor": 5
}
